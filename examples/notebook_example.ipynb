{
 "cells": [
  {
   "cell_type": "code",
   "execution_count": null,
   "metadata": {},
   "outputs": [],
   "source": [
    "from brayns import *"
   ]
  },
  {
   "cell_type": "code",
   "execution_count": null,
   "metadata": {},
   "outputs": [],
   "source": [
    "# Initialize PyBrayns with brayns url\n",
    "brayns = Brayns('http://localhost:5000')"
   ]
  },
  {
   "cell_type": "code",
   "execution_count": null,
   "metadata": {},
   "outputs": [],
   "source": [
    "# Activate no shading shader\n",
    "brayns.shader = BRAYNS_SHADER_DIFFUSE"
   ]
  },
  {
   "cell_type": "code",
   "execution_count": null,
   "metadata": {},
   "outputs": [],
   "source": [
    "# set ambient occlusion strength\n",
    "brayns.ambient_occlusion = 1.0"
   ]
  },
  {
   "cell_type": "code",
   "execution_count": null,
   "metadata": {},
   "outputs": [],
   "source": [
    "# Activate shadows and make them soft\n",
    "brayns.shadows = True\n",
    "brayns.soft_shadows = True"
   ]
  },
  {
   "cell_type": "code",
   "execution_count": null,
   "metadata": {},
   "outputs": [],
   "source": [
    "# Define and set camera defined by origin, look-at,\n",
    "# up vector, aperture and focal length\n",
    "camera = Camera()\n",
    "camera.origin = [0.0, 0.0, -3.0]\n",
    "camera.look_at = [0.0, 0.0, 0.0]\n",
    "brayns.camera(camera)"
   ]
  },
  {
   "cell_type": "code",
   "execution_count": null,
   "metadata": {},
   "outputs": [],
   "source": [
    "# Set material 0 to white\n",
    "material = Material()\n",
    "material.index = 0\n",
    "material.diffuse_color = [1.0, 1.0, 1.0]\n",
    "material.specular_color = [1.0, 1.0, 1.0]\n",
    "material.specular_exponent = 100.0\n",
    "material.opacity = 0.2\n",
    "material.reflection_index = 0.5\n",
    "material.refraction_index = 1.4\n",
    "brayns.material(material)"
   ]
  },
  {
   "cell_type": "code",
   "execution_count": null,
   "metadata": {},
   "outputs": [],
   "source": [
    "# Activate default renderer\n",
    "brayns.renderer = BRAYNS_RENDERER_DEFAULT"
   ]
  },
  {
   "cell_type": "code",
   "execution_count": null,
   "metadata": {},
   "outputs": [],
   "source": [
    "# Set background color\n",
    "brayns.background_color = [0.1, 0.1, 0.1]"
   ]
  },
  {
   "cell_type": "code",
   "execution_count": null,
   "metadata": {},
   "outputs": [],
   "source": [
    "# set source image size\n",
    "brayns.window_size = [512, 512]"
   ]
  },
  {
   "cell_type": "code",
   "execution_count": null,
   "metadata": {},
   "outputs": [],
   "source": [
    "# Set number of samples per pixel\n",
    "brayns.samples_per_pixel = 1"
   ]
  },
  {
   "cell_type": "code",
   "execution_count": null,
   "metadata": {},
   "outputs": [],
   "source": [
    "# Set scene timestamp\n",
    "brayns.timestamp = 100"
   ]
  },
  {
   "cell_type": "code",
   "execution_count": null,
   "metadata": {},
   "outputs": [],
   "source": [
    "# Define transfer function for electrical simulation\n",
    "transfer_function = TransferFunction()\n",
    "\n",
    "# Define control points for all attributes (R,G,B,A)\n",
    "red_control_points = [\n",
    "    [ -92.0915, 0.1 ], [-61.0, 0.1 ],\n",
    "    [-50.0, 0.8 ], [0.0, 0.0], [49.5497, 1]]\n",
    "transfer_function.control_points(\n",
    "    BRAYNS_ATTRIBUTE_RED, red_control_points)\n",
    "\n",
    "green_control_points = [\n",
    "    [ -92.0915, 0.1 ], [-55.0, 0.1 ],\n",
    "    [-50.0, 0.5 ], [49.5497, 1]]\n",
    "transfer_function.control_points(\n",
    "    BRAYNS_ATTRIBUTE_GREEN, green_control_points)\n",
    "\n",
    "blue_control_points = [\n",
    "    [ -92.0915, 0.1 ], [-50.0, 0.1 ],\n",
    "    [-58.0, 0.0 ], [0.0, 0.1]]\n",
    "transfer_function.control_points(\n",
    "    BRAYNS_ATTRIBUTE_BLUE, blue_control_points)\n",
    "\n",
    "alpha_control_points = [\n",
    "    [ -92.0915, 1.0 ], [49.5497, 1]]\n",
    "transfer_function.ontrol_points(\n",
    "    BRAYNS_ATTRIBUTE_ALPHA, alpha_control_points)\n",
    "\n",
    "# Set transfer function\n",
    "brayns.transfer_function(transfer_function)"
   ]
  },
  {
   "cell_type": "code",
   "execution_count": null,
   "metadata": {},
   "outputs": [],
   "source": [
    "# Get JPEG image back and save it to example.jpg\n",
    "brayns.image_jpeg_size = [512, 512]\n",
    "brayns.image_jpeg_quality = 100\n",
    "image = brayns.image_jpeg()\n",
    "if image is not None:\n",
    "    image.show()"
   ]
  },
  {
   "cell_type": "code",
   "execution_count": null,
   "metadata": {},
   "outputs": [],
   "source": [
    "# Get color frame buffer\n",
    "image = brayns.color_frame_buffer\n",
    "if image is not None:\n",
    "    image.show()"
   ]
  },
  {
   "cell_type": "code",
   "execution_count": null,
   "metadata": {},
   "outputs": [],
   "source": [
    "# Get depth frame buffer\n",
    "image = brayns.depth_frame_buffer\n",
    "if image is not None:\n",
    "    image.show()"
   ]
  }
 ],
 "metadata": {
  "kernelspec": {
   "display_name": "Python 3",
   "language": "python",
   "name": "python3"
  },
  "language_info": {
   "codemirror_mode": {
    "name": "ipython",
    "version": 3.0
   },
   "file_extension": ".py",
   "mimetype": "text/x-python",
   "name": "python",
   "nbconvert_exporter": "python",
   "pygments_lexer": "ipython3",
   "version": "3.4.3"
  }
 },
 "nbformat": 4,
 "nbformat_minor": 0
}